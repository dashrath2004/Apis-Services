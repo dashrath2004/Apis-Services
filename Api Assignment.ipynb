{
 "cells": [
  {
   "cell_type": "markdown",
   "id": "ebf8c083-d3eb-428d-8708-d8f91b5f0f10",
   "metadata": {},
   "source": [
    "Q1. What is an API? Give an example, where an API is used in real life."
   ]
  },
  {
   "cell_type": "raw",
   "id": "019cbaee-8f27-4334-8307-01f58d14262d",
   "metadata": {},
   "source": [
    "APIs are mechanisms that enable two software components to communicate with each other using a set of definitions and protocols. For example, the weather bureau's software system contains daily weather data. The weather app on your phone “talks” to this system via APIs and shows you daily weather updates on your phone.\n",
    "\n",
    "APIs are used to deliver material by streaming services such as Spotify and Netflix. APIs are used by automakers such as Tesla to provide software upgrades."
   ]
  },
  {
   "cell_type": "markdown",
   "id": "5c9cf03a-97ad-4b2e-baaf-00e9d6d57d22",
   "metadata": {},
   "source": [
    "Q2. Give advantages and disadvantages of using API."
   ]
  },
  {
   "cell_type": "raw",
   "id": "233e5fd0-757f-4c8f-aee7-470dec0e5439",
   "metadata": {},
   "source": [
    "Advantages:\n",
    "\n",
    "Increased Interoperability:  API solutions enable different software systems to communicate with each other, regardless of their programming language or platform. This enhances the interoperability between systems, allowing for the exchange of data and functionality.\n",
    "\n",
    "Improved Efficiency:  API driven infrastructures enable developers to reuse code and functionality from existing software systems, saving time and reducing the amount of code that needs to be written from scratch.\n",
    "\n",
    "Better User Experience:  APIs can enable third-party developers to create applications that integrate with existing software systems, providing a better user experience and increased functionality.\n",
    "\n",
    "Increased Flexibility:  APIs provide developers with greater flexibility, enabling them to choose the best programming languages and frameworks for their needs.\n",
    "\n",
    "New Revenue Streams:  APIs can enable companies to create new revenue streams by providing third-party developers with access to their software systems."
   ]
  },
  {
   "cell_type": "raw",
   "id": "d77030e9-f3f1-4ce6-8cd2-e2dd893bfd77",
   "metadata": {},
   "source": [
    "Disadvantages:\n",
    "\n",
    "Security Concerns:  API infrastructures can be vulnerable to security breaches, such as SQL injection attacks and cross-site scripting (XSS) attacks, making it crucial to implement security measures to protect against these threats.\n",
    "\n",
    "Complexity:  APIs can be complex, requiring a significant amount of development effort to implement and maintain.\n",
    "\n",
    "Compatibility Issues:  APIs can have compatibility issues between different versions of the same software system or between different systems, which can lead to errors and system failures.\n",
    "\n",
    "Dependency on Third-Party Developers:  APIs rely on third-party developers to create applications that integrate with the software system. This can create dependencies that are outside of the control of the company that owns the software system.\n",
    "\n",
    "Governance and Management:  APIs require proper governance and management to ensure they are being used correctly and consistently across different applications and systems.\n"
   ]
  },
  {
   "cell_type": "markdown",
   "id": "8f8667e7-a6ee-4295-983e-27fa5e1173f5",
   "metadata": {},
   "source": [
    "Q3. What is a Web API? Differentiate between API and Web API."
   ]
  },
  {
   "cell_type": "raw",
   "id": "1c22a609-5c72-4959-a886-04332c30695b",
   "metadata": {},
   "source": [
    "Web API is an API as the name suggests, it can be accessed over the web using the HTTP protocol. It is a framework that helps you to create and develop HTTP based RESTFUL services. The web API can be developed by using different technologies such as java, ASP.NET, etc. Web API is used in either a web server or a web browser. Basically Web API is a web development concept."
   ]
  },
  {
   "cell_type": "raw",
   "id": "5d7df47f-ddfb-495c-92e1-898a41910432",
   "metadata": {},
   "source": [
    "API is an interface that exposes an application's data to outside software, whereas web applications are one type of API with stricter requirements. These requirements include network communication, SOAP as the primary protocol, and less accessibility for the public."
   ]
  },
  {
   "cell_type": "markdown",
   "id": "ed2abb9d-1b2b-4b2f-bf45-8b49d22ac0ce",
   "metadata": {},
   "source": [
    "Q4. Explain REST and SOAP Architecture. Mention shortcomings of SOAP."
   ]
  },
  {
   "cell_type": "raw",
   "id": "4d3b5a0f-f8ac-4477-a440-55fb6780f4c6",
   "metadata": {},
   "source": [
    "REST is an architecture style for designing communication interfaces. SOAP API exposes the operation. REST API exposes the data. SOAP is independent and can work with any transport protoco"
   ]
  },
  {
   "cell_type": "raw",
   "id": "bade9543-c08c-43cc-bce0-ae3c963d7a27",
   "metadata": {},
   "source": [
    "As SOAP can only transfer messages as XML files, your SOAP API will be less performant, as XML is a verbose format compared to JSON. API calls made to your server will need more bandwidth and it will take more time to process the request and transfer the response back to the client."
   ]
  },
  {
   "cell_type": "markdown",
   "id": "714a3cdd-6a0f-4f54-beb7-f1ce0b693329",
   "metadata": {},
   "source": [
    "Q5. Differentiate between REST and SOAP."
   ]
  },
  {
   "cell_type": "raw",
   "id": "e6290fa1-7cd7-4470-9848-3aa7251d595d",
   "metadata": {},
   "source": [
    "SOAP supports only XML data exchange. REST supports XML, JSON, plain text, HTML. SOAP messages are larger, which makes communication slower. REST has faster performance due to smaller messages and caching support."
   ]
  }
 ],
 "metadata": {
  "kernelspec": {
   "display_name": "Python 3 (ipykernel)",
   "language": "python",
   "name": "python3"
  },
  "language_info": {
   "codemirror_mode": {
    "name": "ipython",
    "version": 3
   },
   "file_extension": ".py",
   "mimetype": "text/x-python",
   "name": "python",
   "nbconvert_exporter": "python",
   "pygments_lexer": "ipython3",
   "version": "3.10.8"
  }
 },
 "nbformat": 4,
 "nbformat_minor": 5
}
