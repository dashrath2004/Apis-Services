{
 "cells": [
  {
   "cell_type": "markdown",
   "id": "ebf8c083-d3eb-428d-8708-d8f91b5f0f10",
   "metadata": {},
   "source": [
    "Q1. What is an API? Give an example, where an API is used in real life."
   ]
  },
  {
   "cell_type": "markdown",
   "id": "9fe8fb9c-99de-4011-804c-1b5d3a303c46",
   "metadata": {},
   "source": [
    "APIs are mechanisms that enable two software components to communicate with each other using a set of definitions and protocols. For example, the weather bureau's software system contains daily weather data. The weather app on your phone “talks” to this system via APIs and shows you daily weather updates on your phone.\n",
    "\n",
    "APIs are used to deliver material by streaming services such as Spotify and Netflix. APIs are used by automakers such as Tesla to provide software upgrades."
   ]
  },
  {
   "cell_type": "markdown",
   "id": "5c9cf03a-97ad-4b2e-baaf-00e9d6d57d22",
   "metadata": {},
   "source": [
    "Q2. Give advantages and disadvantages of using API."
   ]
  },
  {
   "cell_type": "markdown",
   "id": "d66c9ae3-8ae3-4b8e-8a19-bf5469be2735",
   "metadata": {},
   "source": [
    "Advantages:\n",
    "\n",
    "Increased Interoperability:  API solutions enable different software systems to communicate with each other, regardless of their programming language or platform. This enhances the interoperability between systems, allowing for the exchange of data and functionality.\n",
    "\n",
    "Improved Efficiency:  API driven infrastructures enable developers to reuse code and functionality from existing software systems, saving time and reducing the amount of code that needs to be written from scratch.\n",
    "\n",
    "Better User Experience:  APIs can enable third-party developers to create applications that integrate with existing software systems, providing a better user experience and increased functionality.\n",
    "\n",
    "Increased Flexibility:  APIs provide developers with greater flexibility, enabling them to choose the best programming languages and frameworks for their needs.\n",
    "\n",
    "New Revenue Streams:  APIs can enable companies to create new revenue streams by providing third-party developers with access to their software systems."
   ]
  },
  {
   "cell_type": "markdown",
   "id": "843918ee-9e09-421f-80ab-0657240652f0",
   "metadata": {},
   "source": [
    "Disadvantages:\n",
    "\n",
    "Security Concerns:  API infrastructures can be vulnerable to security breaches, such as SQL injection attacks and cross-site scripting (XSS) attacks, making it crucial to implement security measures to protect against these threats.\n",
    "\n",
    "Complexity:  APIs can be complex, requiring a significant amount of development effort to implement and maintain.\n",
    "\n",
    "Compatibility Issues:  APIs can have compatibility issues between different versions of the same software system or between different systems, which can lead to errors and system failures.\n",
    "\n",
    "Dependency on Third-Party Developers:  APIs rely on third-party developers to create applications that integrate with the software system. This can create dependencies that are outside of the control of the company that owns the software system.\n",
    "\n",
    "Governance and Management:  APIs require proper governance and management to ensure they are being used correctly and consistently across different applications and systems."
   ]
  },
  {
   "cell_type": "markdown",
   "id": "8f8667e7-a6ee-4295-983e-27fa5e1173f5",
   "metadata": {},
   "source": [
    "Q3. What is a Web API? Differentiate between API and Web API."
   ]
  },
  {
   "cell_type": "markdown",
   "id": "55eccb2c-fff5-4067-883a-64f41ecef8b7",
   "metadata": {},
   "source": [
    "Web API is an API as the name suggests, it can be accessed over the web using the HTTP protocol. It is a framework that helps you to create and develop HTTP based RESTFUL services. The web API can be developed by using different technologies such as java, ASP.NET, etc. Web API is used in either a web server or a web browser. Basically Web API is a web development concept."
   ]
  },
  {
   "cell_type": "markdown",
   "id": "bad1fa4e-8a3c-4f86-8e4e-0af4939fda4a",
   "metadata": {},
   "source": [
    "API is an interface that exposes an application's data to outside software, whereas web applications are one type of API with stricter requirements. These requirements include network communication, SOAP as the primary protocol, and less accessibility for the public."
   ]
  },
  {
   "cell_type": "markdown",
   "id": "ed2abb9d-1b2b-4b2f-bf45-8b49d22ac0ce",
   "metadata": {},
   "source": [
    "Q4. Explain REST and SOAP Architecture. Mention shortcomings of SOAP."
   ]
  },
  {
   "cell_type": "markdown",
   "id": "3d6aaae4-7126-400e-8583-11da6c833bb3",
   "metadata": {},
   "source": [
    "REST is an architecture style for designing communication interfaces. SOAP API exposes the operation. REST API exposes the data. SOAP is independent and can work with any transport protocol."
   ]
  },
  {
   "cell_type": "markdown",
   "id": "5379e02e-91d2-4b2d-9eee-29a0b81c59aa",
   "metadata": {},
   "source": [
    "As SOAP can only transfer messages as XML files, your SOAP API will be less performant, as XML is a verbose format compared to JSON. API calls made to your server will need more bandwidth and it will take more time to process the request and transfer the response back to the client."
   ]
  },
  {
   "cell_type": "markdown",
   "id": "714a3cdd-6a0f-4f54-beb7-f1ce0b693329",
   "metadata": {},
   "source": [
    "Q5. Differentiate between REST and SOAP."
   ]
  },
  {
   "cell_type": "markdown",
   "id": "545b64ae-87ce-43db-9ad4-6c8b093274a2",
   "metadata": {},
   "source": [
    "SOAP supports only XML data exchange. REST supports XML, JSON, plain text, HTML. SOAP messages are larger, which makes communication slower. REST has faster performance due to smaller messages and caching support."
   ]
  },
  {
   "cell_type": "markdown",
   "id": "be956561-90be-4d37-8c6b-2eab42d2dd96",
   "metadata": {},
   "source": []
  }
 ],
 "metadata": {
  "kernelspec": {
   "display_name": "Python 3 (ipykernel)",
   "language": "python",
   "name": "python3"
  },
  "language_info": {
   "codemirror_mode": {
    "name": "ipython",
    "version": 3
   },
   "file_extension": ".py",
   "mimetype": "text/x-python",
   "name": "python",
   "nbconvert_exporter": "python",
   "pygments_lexer": "ipython3",
   "version": "3.10.8"
  }
 },
 "nbformat": 4,
 "nbformat_minor": 5
}
